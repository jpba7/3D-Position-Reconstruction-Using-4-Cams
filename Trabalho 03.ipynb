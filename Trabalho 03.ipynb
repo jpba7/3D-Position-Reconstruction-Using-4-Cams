{
 "cells": [
  {
   "cell_type": "markdown",
   "metadata": {},
   "source": [
    "# Trabalho 3 - Reconstrução da posição 3D durante o movimento de um robô móvel\n",
    "\n",
    "Grupo: Arthur Lorencini Bergamaschi e João Pedro Bimbato Araujo"
   ]
  },
  {
   "cell_type": "markdown",
   "metadata": {},
   "source": [
    "#### Libs"
   ]
  },
  {
   "cell_type": "code",
   "execution_count": 1,
   "metadata": {},
   "outputs": [],
   "source": [
    "import numpy as np\n",
    "import json\n",
    "import cv2\n",
    "from cv2 import aruco\n",
    "import matplotlib.pyplot as plt\n",
    "import sys"
   ]
  },
  {
   "cell_type": "markdown",
   "metadata": {},
   "source": [
    "#### Funções"
   ]
  },
  {
   "cell_type": "code",
   "execution_count": 2,
   "metadata": {},
   "outputs": [],
   "source": [
    "def camera_parameters(file):\n",
    "    camera_data = json.load(open(file))\n",
    "    K = np.array(camera_data['intrinsic']['doubles']).reshape(3, 3)\n",
    "    res = [camera_data['resolution']['width'],\n",
    "           camera_data['resolution']['height']]\n",
    "    tf = np.array(camera_data['extrinsic']['tf']['doubles']).reshape(4, 4)\n",
    "    R = tf[:3, :3]\n",
    "    T = tf[:3, 3].reshape(3, 1)\n",
    "    dis = np.array(camera_data['distortion']['doubles'])\n",
    "    return K, R, T, res, dis\n",
    "\n",
    "def aruco_center(corners):\n",
    "    c = corners[0][0]\n",
    "    return c[:, 0].mean(), c[:, 1].mean()\n",
    "\n",
    "def detect_aruco_video(file_name): \n",
    "    aruco_dict = aruco.Dictionary_get(aruco.DICT_4X4_50)\n",
    "    parameters =  aruco.DetectorParameters_create()\n",
    "    vid = cv2.VideoCapture(file_name)\n",
    "    center_coordinates = []\n",
    "    while True:\n",
    "        _, img = vid.read()\n",
    "        if img is None:\n",
    "            break\n",
    "\n",
    "        gray = cv2.cvtColor(img, cv2.COLOR_BGR2GRAY)\n",
    "        corners, ids, rejectedImgPoints = aruco.detectMarkers(gray, aruco_dict, parameters=parameters)\n",
    "        if ids is not None:\n",
    "            for i in range(0,len(ids)):\n",
    "                if(ids[i]==0):\n",
    "                    center_coordinates.append(aruco_center(corners))\n",
    "    return center_coordinates\n",
    "\n",
    "def generate_projection_matrix(Rot, Trans):\n",
    "    return np.vstack((np.hstack((Rot.T, -Rot.T @ Trans)), [0, 0, 0, 1]))"
   ]
  },
  {
   "cell_type": "code",
   "execution_count": 3,
   "metadata": {},
   "outputs": [],
   "source": [
    "cameras_aruco_center_coordinates = []\n",
    "for i in range(0,3):\n",
    "    cameras_aruco_center_coordinates.append(detect_aruco_video('camera-0'+ str(i) +'.mp4'))"
   ]
  },
  {
   "cell_type": "markdown",
   "metadata": {},
   "source": [
    "#### Matriz de projeção geral"
   ]
  },
  {
   "attachments": {
    "image-2.png": {
     "image/png": "[encoded data removed]"
    }
   },
   "cell_type": "markdown",
   "metadata": {},
   "source": [
    "![image-2.png](attachment:image-2.png)"
   ]
  },
  {
   "cell_type": "code",
   "execution_count": 6,
   "metadata": {},
   "outputs": [],
   "source": [
    "identity_matrix = np.eye(3,4)\n",
    "\n",
    "general_projection_matrices = []\n",
    "\n",
    "for i in range(0,3):\n",
    "    K, R, T, res, dis = camera_parameters(str(i) + '.json')\n",
    "    projection_matrix = generate_projection_matrix(R, T)\n",
    "    general_projection_matrices.append(K @ (identity_matrix @ projection_matrix))"
   ]
  }
 ],
 "metadata": {
  "kernelspec": {
   "display_name": "Python 3",
   "language": "python",
   "name": "python3"
  },
  "language_info": {
   "codemirror_mode": {
    "name": "ipython",
    "version": 3
   },
   "file_extension": ".py",
   "mimetype": "text/x-python",
   "name": "python",
   "nbconvert_exporter": "python",
   "pygments_lexer": "ipython3",
   "version": "3.12.0"
  }
 },
 "nbformat": 4,
 "nbformat_minor": 2
}
